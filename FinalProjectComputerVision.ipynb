{
  "nbformat": 4,
  "nbformat_minor": 0,
  "metadata": {
    "colab": {
      "name": "FinalProjectComputerVision",
      "provenance": [],
      "collapsed_sections": [],
      "authorship_tag": "ABX9TyOvJLS1rJP/LRYR0N5z4UJo",
      "include_colab_link": true
    },
    "kernelspec": {
      "name": "python3",
      "display_name": "Python 3"
    },
    "language_info": {
      "name": "python"
    }
  },
  "cells": [
    {
      "cell_type": "markdown",
      "metadata": {
        "id": "view-in-github",
        "colab_type": "text"
      },
      "source": [
        "<a href=\"https://colab.research.google.com/github/oscar-defelice/Computer-Vision-Hands-on/blob/main/FinalProjectComputerVision.ipynb\" target=\"_parent\"><img src=\"https://colab.research.google.com/assets/colab-badge.svg\" alt=\"Open In Colab\"/></a>"
      ]
    },
    {
      "cell_type": "markdown",
      "metadata": {
        "id": "aswZEE4AcpG6"
      },
      "source": [
        "# Computer Vision Hands-on\n",
        "## Final Project\n",
        "\n",
        "Questo notebook costituisce il final project del corso *Computer Vision Hands-on*.\n",
        "\n",
        "### Obiettivo\n",
        "\n",
        "> Costruire un modello di riconoscimento immagini tramite *Siamese Network*. Il modello dovrà avere una AUC/ROC di almeno 0.87 sul test set.\n",
        "\n",
        "Il dataset da utilizzare sarà il famoso [MNIST](https://www.tensorflow.org/datasets/catalog/mnist). \n",
        "\n",
        "Utilizzeremo questo dataset per costruire e allenare una siamese network e avere un modello che riconosca le cifre all'interno di un database.\n",
        "\n",
        "#### Costruire il test database\n",
        "Il database sarà costituito $5000$ immagini prese dal dataset di test.\n",
        "\n",
        "Per provare l'algoritmo inserite un'immagine e date il predict al modello: dovrebbe darvi una corrispondenza. Potete usare le funzioni sviluppate insieme nella [lezione sulle Siamese Network](https://github.com/DeepLearningItalia/Computer-Vision-Hands-on/tree/main/Lectures_src/SiameseNetwork).\n",
        "\n",
        "#### Costruire il training set\n",
        "Utilizzate `tensorflow.keras` e costruite le triplette di training, ricordandovi che affinché il modello apprenda efficacemente, è opportuno utilizzare *Hard-Triplets*, cioè immagini con poco \"distanza\" tra *Positive* e *Negative*.\n",
        "\n",
        "[Questo video](https://www.coursera.org/lecture/sequence-models-in-nlp/training-testing-KDqML) può esservi utile per capire come costruire il training set.\n",
        "\n",
        "#### Costruire il modello\n",
        "\n",
        "Il modello è una semplice rete neurale convoluzionale (potete usare l'architettura che preferite - ImageNet, AlexNet, ResNet50, etc. - e che vi dia le performance desiderate).\n",
        "\n",
        "Occorre fare attenzione: \n",
        "\n",
        "1. Keras non ha un layer TripletLoss: dovremmo costruirlo noi. Il codice è fornito in questo notebook.\n",
        "2. Occorre costruire due reti: una per il training che prende in input le triplette, una per le predizioni, che prende in input due immagini e ritorna il punteggio di similarità tra queste. Le due reti devono condividere gli stessi pesi. In questo notebook fornisco un esempio con reti fully connected da modificare con la vostra architettura di rete.\n",
        "\n",
        "#### Bonus:\n",
        "Deploy del modello (solo quello previsionale) con TensorFlow.JS in modo da poter caricare un'immagine su una pagina web e che questa restituisca un messaggio dicendo se ha riconosciuto o no la cifra nella foto."
      ]
    },
    {
      "cell_type": "markdown",
      "metadata": {
        "id": "7tAY5uURo2aQ"
      },
      "source": [
        "## Import delle librerie"
      ]
    },
    {
      "cell_type": "code",
      "metadata": {
        "id": "OG5vA__oplgf"
      },
      "source": [
        "import os\n",
        "import numpy as np\n",
        "np.random.seed(0)\n",
        "import matplotlib.pyplot as plt\n",
        "%matplotlib inline\n",
        "from pylab import *\n",
        "from tensorflow.keras.models import Sequential\n",
        "from tensorflow.keras.optimizers import Adam\n",
        "from tensorflow.keras.layers import Conv2D, ZeroPadding2D, Activation, Input, concatenate\n",
        "from tensorflow.keras.models import Model\n",
        "from tensorflow.keras.datasets import mnist\n",
        "\n",
        "from tensorflow.keras.layers import BatchNormalization\n",
        "from tensorflow.keras.layers import MaxPooling2D\n",
        "from tensorflow.keras.layers import Lambda, Flatten, Dense\n",
        "from tensorflow.keras.initializers import glorot_uniform,he_uniform\n",
        "\n",
        "from tensorflow.keras.layers import Layer, InputSpec\n",
        "from tensorflow.keras.regularizers import l2\n",
        "from tensorflow.keras import backend as K\n",
        "from tensorflow.keras.utils import plot_model,normalize\n",
        "\n",
        "from sklearn.metrics import roc_curve,roc_auc_score"
      ],
      "execution_count": 1,
      "outputs": []
    },
    {
      "cell_type": "markdown",
      "metadata": {
        "id": "_OFtX1XeqWQ0"
      },
      "source": [
        "Una funzione per fare il plot delle immagini a schermo."
      ]
    },
    {
      "cell_type": "code",
      "metadata": {
        "id": "MUmdwCJiqCPr"
      },
      "source": [
        "def DrawPics(tensor,nb=0,template='{}',classnumber=None):\n",
        "    if (nb==0):\n",
        "        N = tensor.shape[0]\n",
        "    else:\n",
        "        N = min(nb,tensor.shape[0])\n",
        "    fig=plt.figure(figsize=(16,2))\n",
        "    nbligne = floor(N/20)+1\n",
        "    for m in range(N):\n",
        "        subplot = fig.add_subplot(nbligne,min(N,20),m+1)\n",
        "        axis(\"off\")\n",
        "        plt.imshow(tensor[m,:,:,0],vmin=0, vmax=1,cmap='Greys')\n",
        "        if (classnumber!=None):\n",
        "            subplot.title.set_text((template.format(classnumber)))"
      ],
      "execution_count": 2,
      "outputs": []
    },
    {
      "cell_type": "markdown",
      "metadata": {
        "id": "TkGSCA7uqmEA"
      },
      "source": [
        "### Importare il dataset"
      ]
    },
    {
      "cell_type": "code",
      "metadata": {
        "id": "6JWzJeKtqpEN"
      },
      "source": [
        "n_classes = 10\n",
        "img_rows, img_cols = 28, 28\n",
        "input_shape = (img_rows, img_cols, 1)\n",
        "\n",
        "def buildDataSet():\n",
        "    \"\"\"Build dataset for train and test\n",
        "    \n",
        "    \n",
        "    returns:\n",
        "        dataset : list of lengh 10 containing images for each classes of shape (?,28,28,1)\n",
        "    \"\"\"\n",
        "    (x_train_origin, y_train_origin), (x_test_origin, y_test_origin) = mnist.load_data()\n",
        "\n",
        "    assert K.image_data_format() == 'channels_last'\n",
        "    x_train_origin = x_train_origin.reshape(x_train_origin.shape[0], img_rows, img_cols, 1)\n",
        "    x_test_origin = x_test_origin.reshape(x_test_origin.shape[0], img_rows, img_cols, 1)\n",
        "    \n",
        "    dataset_train = []\n",
        "    dataset_test = []\n",
        "    \n",
        "    #Sorting images by classes and normalize values 0=>1\n",
        "    for n in range(n_classes):\n",
        "        images_class_n = np.asarray([row for idx,row in enumerate(x_train_origin) if y_train_origin[idx]==n])\n",
        "        dataset_train.append(images_class_n/255)\n",
        "        \n",
        "        images_class_n = np.asarray([row for idx,row in enumerate(x_test_origin) if y_test_origin[idx]==n])\n",
        "        dataset_test.append(images_class_n/255)\n",
        "        \n",
        "    return dataset_train,dataset_test,x_train_origin,y_train_origin,x_test_origin,y_test_origin"
      ],
      "execution_count": 8,
      "outputs": []
    },
    {
      "cell_type": "markdown",
      "metadata": {
        "id": "uUCici2Wr49f"
      },
      "source": [
        "#### Visualizzare alcuni elementi del dataset"
      ]
    },
    {
      "cell_type": "code",
      "metadata": {
        "colab": {
          "base_uri": "https://localhost:8080/",
          "height": 624
        },
        "id": "hpotaWkur3Ir",
        "outputId": "2c8c8bf4-b64b-462a-ae03-240a07772a63"
      },
      "source": [
        "dataset_train,dataset_test,x_train_origin,y_train_origin,x_test_origin,y_test_origin = buildDataSet()\n",
        "print(\"Checking shapes for class 0 (train) : \",dataset_train[0].shape)\n",
        "print(\"Checking shapes for class 0 (test) : \",dataset_test[0].shape)\n",
        "print(\"Checking first samples\")\n",
        "for i in range(2):\n",
        "    DrawPics(dataset_train[i],5,template='Train {}',classnumber=i)\n",
        "    DrawPics(dataset_test[i],5,template='Test {}',classnumber=i)"
      ],
      "execution_count": 16,
      "outputs": [
        {
          "output_type": "stream",
          "text": [
            "Checking shapes for class 0 (train) :  (5923, 28, 28, 1)\n",
            "Checking shapes for class 0 (test) :  (980, 28, 28, 1)\n",
            "Checking first samples\n"
          ],
          "name": "stdout"
        },
        {
          "output_type": "display_data",
          "data": {
            "image/png": "[encoded data removed]",
            "text/plain": [
              "<Figure size 1152x144 with 5 Axes>"
            ]
          },
          "metadata": {
            "tags": [],
            "needs_background": "light"
          }
        },
        {
          "output_type": "display_data",
          "data": {
            "image/png": "[encoded data removed]",
            "text/plain": [
              "<Figure size 1152x144 with 5 Axes>"
            ]
          },
          "metadata": {
            "tags": [],
            "needs_background": "light"
          }
        },
        {
          "output_type": "display_data",
          "data": {
            "image/png": "[encoded data removed]",
            "text/plain": [
              "<Figure size 1152x144 with 5 Axes>"
            ]
          },
          "metadata": {
            "tags": [],
            "needs_background": "light"
          }
        },
        {
          "output_type": "display_data",
          "data": {
            "image/png": "[encoded data removed]",
            "text/plain": [
              "<Figure size 1152x144 with 5 Axes>"
            ]
          },
          "metadata": {
            "tags": [],
            "needs_background": "light"
          }
        }
      ]
    },
    {
      "cell_type": "markdown",
      "metadata": {
        "id": "LEGjaUcHuhnt"
      },
      "source": [
        "## I layer TripletLoss e PredictionLayer"
      ]
    },
    {
      "cell_type": "code",
      "metadata": {
        "id": "7_spQKNTci5I"
      },
      "source": [
        "class TripletLossLayer(Layer):\n",
        "    \"\"\"\n",
        "        Layer object to minimise the triplet loss.\n",
        "        Here we implement the Bayesian Personal Ranking triplet loss.\n",
        "    \"\"\"\n",
        "    def __init__(self, **kwargs):\n",
        "        super(TripletLossLayer, self).__init__(**kwargs)\n",
        "    \n",
        "    def triplet_loss(self, inputs):\n",
        "        \"\"\"\n",
        "            Triplet loss function.\n",
        "            We make use of log-loss for numerical purposes.\n",
        "        \"\"\"\n",
        "        anchor, positive, negative = inputs\n",
        "        p_score = tf.math.reduce_sum(tf.square(tf.subtract(anchor, positive)), axis = -1)\n",
        "        n_score = tf.math.reduce_sum(tf.square(tf.subtract(anchor, negative)), axis = -1)\n",
        "        return tf.reduce_sum(tf.maximum(tf.subtract(p_score, n_score) , 0))\n",
        "    \n",
        "    def call(self, inputs):\n",
        "        loss = self.triplet_loss(inputs)\n",
        "        self.add_loss(loss)\n",
        "        return loss\n",
        "\n",
        "class PredictionLayer(Layer):\n",
        "    \"\"\"\n",
        "        Layer object to predict positive matches.\n",
        "    \"\"\"\n",
        "    def __init__(self, **kwargs):\n",
        "        super(PredictionLayer, self).__init__(**kwargs)\n",
        "    \n",
        "    def rec_similarity(self, inputs):\n",
        "        \"\"\"\n",
        "            rec_similarity function\n",
        "        \"\"\"\n",
        "        anchor, item = inputs\n",
        "        score = tf.math.reduce_sum(tf.square(tf.subtract(anchor, item)), axis = -1)\n",
        "        return score\n",
        "    \n",
        "    def call(self, inputs):\n",
        "        pred = self.rec_similarity(inputs)\n",
        "        return pred"
      ],
      "execution_count": null,
      "outputs": []
    },
    {
      "cell_type": "markdown",
      "metadata": {
        "id": "Qd3UIa7bsM9F"
      },
      "source": [
        "### Costruire le reti di training a predizione\n",
        "\n",
        "Nelle celle seguenti dovrete costruire (tramite funzione) due reti (**che condividano i pesi**) una per il training (che quindi abbia come input delle triplette) e una per il predict (che abbia come input due sole immagini e restituisca il loro score di *vicinanza*."
      ]
    },
    {
      "cell_type": "code",
      "metadata": {
        "id": "i8KRIc8Ys06l"
      },
      "source": [
        "def buildPredictNetwork(input_shape, embeddingsize):\n",
        "    '''\n",
        "    Define the neural network to learn image similarity\n",
        "    Input : \n",
        "            input_shape : shape of input images\n",
        "            embeddingsize : vectorsize used to encode our picture   \n",
        "    '''\n",
        "    # Convolutional Neural Network\n",
        "    network = Sequential()\n",
        "    \n",
        "    ## YOUR CODE HERE ##\n",
        "\n",
        "    return network\n",
        "\n",
        "def buildTrainingNetwork(input_shape, network, margin=0.2):\n",
        "    '''\n",
        "    Define the Keras Model for training \n",
        "        Input : \n",
        "            input_shape : shape of input images\n",
        "            network : Neural network to train outputing embeddings\n",
        "            margin : minimal distance between Anchor-Positive and Anchor-Negative for the lossfunction (alpha)\n",
        "    \n",
        "    '''\n",
        "    # Define the tensors for the three input images\n",
        "    anchor_input = Input(input_shape, name=\"anchor_input\")\n",
        "    positive_input = Input(input_shape, name=\"positive_input\")\n",
        "    negative_input = Input(input_shape, name=\"negative_input\") \n",
        "    \n",
        "    # Generate the encodings (feature vectors) for the three images\n",
        "    encoded_a = network(anchor_input)\n",
        "    encoded_p = network(positive_input)\n",
        "    encoded_n = network(negative_input)\n",
        "    \n",
        "    # TripletLoss Layer\n",
        "    loss_layer = TripletLossLayer(alpha=margin, name='triplet_loss_layer')([encoded_a, encoded_p, encoded_n])\n",
        "    \n",
        "    # Connect the inputs with the outputs\n",
        "    network_train = Model(inputs=[anchor_input,positive_input,negative_input],outputs=loss_layer)\n",
        "    \n",
        "    # return the model\n",
        "    return network_train"
      ],
      "execution_count": null,
      "outputs": []
    },
    {
      "cell_type": "markdown",
      "metadata": {
        "id": "zKuoSX8putTE"
      },
      "source": [
        "## Compilare il modello\n",
        "\n",
        "Dopo l'esecuzione della cella in basso, il tipo di grafico del modello dovrebbe essere questo.\n",
        "\n",
        "![](https://github.com/CrimyTheBold/tripletloss/raw/8fa17e4cabf80343b5f766fb88a41bc067d7946a/02%20model.png)"
      ]
    },
    {
      "cell_type": "code",
      "metadata": {
        "id": "pyrog7mnuwQ0"
      },
      "source": [
        "network_predict = build_network(input_shape,embeddingsize=10)\n",
        "network_train = build_model(input_shape,network_predict)\n",
        "optimizer = Adam(lr = 0.00006)\n",
        "network_train.compile(loss=None,optimizer=optimizer)\n",
        "network_train.summary()\n",
        "plot_model(network_train,show_shapes=True, show_layer_names=True, to_file='model.png')\n",
        "print(network_train.metrics_names)\n",
        "n_iteration=0\n",
        "\n",
        "# The last line only works for my model. Available after solutions are given.\n",
        "# network_train.load_weights('mnist-160k_weights.h5')"
      ],
      "execution_count": null,
      "outputs": []
    },
    {
      "cell_type": "markdown",
      "metadata": {
        "id": "amh9BYFIvyUY"
      },
      "source": [
        "#### Verificare che i modelli condividano i pesi\n",
        "\n",
        "Potete verificare che i modelli train e predict condividano i layer in modo che allenare il primo aggiorni i pesi del secondo. Tramite questa cella stampate le posizioni di memoria dei layer e verificate che corrispondano."
      ]
    },
    {
      "cell_type": "code",
      "metadata": {
        "id": "08tSEjAlwGiB"
      },
      "source": [
        "network_train.layers"
      ],
      "execution_count": null,
      "outputs": []
    },
    {
      "cell_type": "code",
      "metadata": {
        "id": "ccorYoLEwFMd"
      },
      "source": [
        "network_predict.layers"
      ],
      "execution_count": null,
      "outputs": []
    },
    {
      "cell_type": "markdown",
      "metadata": {
        "id": "iDM7I_w0vXXa"
      },
      "source": [
        "## Costruire il training set\n",
        "\n",
        "Dobbiamo costruire delle triplette per allenare il modello. Utilizzeremo delle funzioni per costruire batch di triplette su cui svolgeremo il training.\n",
        "\n",
        "Prima costruiremo delle triplette random, poi batch di triplette \"hard\" che allenano il modello in modo più efficiente."
      ]
    },
    {
      "cell_type": "code",
      "metadata": {
        "id": "4FcX3t7cwiHD"
      },
      "source": [
        "def get_batch_random(batch_size,s=\"train\"):\n",
        "    \"\"\"\n",
        "    Create batch of APN triplets with a complete random strategy\n",
        "    \n",
        "    Arguments:\n",
        "    batch_size -- integer \n",
        "\n",
        "    Returns:\n",
        "    triplets -- list containing 3 tensors A,P,N of shape (batch_size,w,h,c)\n",
        "    \"\"\"\n",
        "    if s == 'train':\n",
        "        X = dataset_train\n",
        "    else:\n",
        "        X = dataset_test\n",
        "\n",
        "    m, w, h, c = X[0].shape\n",
        "    \n",
        "    \n",
        "    # initialize result\n",
        "    triplets=[np.zeros((batch_size,h, w,c)) for i in range(3)]\n",
        "    \n",
        "    for i in range(batch_size):\n",
        "        #Pick one random class for anchor\n",
        "        ## YOUR CODE HERE ##\n",
        "        \n",
        "        #Pick two different random pics for this class => A and P\n",
        "        [idx_A,idx_P] =  ## YOUR CODE HERE ##\n",
        "        \n",
        "        #Pick another class for N, different from anchor_class\n",
        "        negative_class = (anchor_class + np.random.randint(1,n_classes)) % n_classes\n",
        "        nb_sample_available_for_class_N = X[negative_class].shape[0]\n",
        "        \n",
        "        #Pick a random pic for this negative class => N\n",
        "        idx_N =  ## YOUR CODE HERE ##\n",
        "\n",
        "        triplets[0][i,:,:,:] = X[anchor_class][idx_A,:,:,:]\n",
        "        triplets[1][i,:,:,:] = X[anchor_class][idx_P,:,:,:]\n",
        "        triplets[2][i,:,:,:] = X[negative_class][idx_N,:,:,:]\n",
        "\n",
        "    return triplets"
      ],
      "execution_count": null,
      "outputs": []
    },
    {
      "cell_type": "markdown",
      "metadata": {
        "id": "878NjmcvxD_S"
      },
      "source": [
        "Una funzione per visualizzare le triplette scelte."
      ]
    },
    {
      "cell_type": "code",
      "metadata": {
        "id": "uMw5HIn3xII4"
      },
      "source": [
        "def drawTriplets(tripletbatch, nbmax=None):\n",
        "    \"\"\"display the three images for each triplets in the batch\n",
        "    \"\"\"\n",
        "    labels = [\"Anchor\", \"Positive\", \"Negative\"]\n",
        "\n",
        "    if (nbmax==None):\n",
        "        nbrows = tripletbatch[0].shape[0]\n",
        "    else:\n",
        "        nbrows = min(nbmax,tripletbatch[0].shape[0])\n",
        "                 \n",
        "    for row in range(nbrows):\n",
        "        fig=plt.figure(figsize=(16,2))\n",
        "    \n",
        "        for i in range(3):\n",
        "            subplot = fig.add_subplot(1,3,i+1)\n",
        "            axis(\"off\")\n",
        "            plt.imshow(tripletbatch[i][row,:,:,0],vmin=0, vmax=1,cmap='Greys')\n",
        "            subplot.title.set_text(labels[i])"
      ],
      "execution_count": 17,
      "outputs": []
    },
    {
      "cell_type": "markdown",
      "metadata": {
        "id": "cAhSogrgxR-V"
      },
      "source": [
        "Per costruire *hard triplets* dobbiamo prendere esempi negativi e positivi i più vicini possibili tra loro. Per fare ciò calcoliamo la distanza tramite una funzione `compute_dist`."
      ]
    },
    {
      "cell_type": "code",
      "metadata": {
        "id": "FU-cjVtOxIph"
      },
      "source": [
        "# Computing distance\n",
        "def compute_img_dist(a,b):\n",
        "    return np.sum(np.square(a-b), axis = 1)\n",
        "\n",
        "def get_batch_hard(draw_batch_size, hard_batchs_size, norm_batchs_size, network = network_predict, s=\"train\"):\n",
        "    \"\"\"\n",
        "    Create batch of APN \"hard\" triplets\n",
        "    \n",
        "    Arguments:\n",
        "    draw_batch_size -- integer : number of initial randomly taken samples   \n",
        "    hard_batchs_size -- interger : select the number of hardest samples to keep\n",
        "    norm_batchs_size -- interger : number of random samples to add\n",
        "\n",
        "    Returns:\n",
        "    triplets -- list containing 3 tensors A,P,N of shape (hard_batchs_size+norm_batchs_size,w,h,c)\n",
        "    \"\"\"\n",
        "    if s == 'train':\n",
        "        X = dataset_train\n",
        "    else:\n",
        "        X = dataset_test\n",
        "\n",
        "    m, w, h, c = X[0].shape\n",
        "    \n",
        "    \n",
        "    # Step 1 : pick a random batch to study\n",
        "    ## YOUR CODE HERE ##\n",
        "    \n",
        "    # Step 2 : compute the loss with current network : d(A,P)-d(A,N). The alpha parameter here is omited here since we want only to order them\n",
        "    studybatchloss = np.zeros((draw_batch_size))\n",
        "    \n",
        "    # Compute embeddings for anchors, positive and negatives\n",
        "    A = network.predict(studybatch[0])\n",
        "    P = network.predict(studybatch[1])\n",
        "    N = network.predict(studybatch[2])\n",
        "    \n",
        "    # Compute d(A,P)-d(A,N)\n",
        "    studybatchloss = ## YOUR CODE HERE ##\n",
        "    \n",
        "    # Sort by distance (high distance first) and take the index\n",
        "    selection = np.argsort(studybatchloss)[::-1][:hard_batchs_size]\n",
        "    \n",
        "    # Draw other random samples from the batch\n",
        "    selection2 = np.random.choice(np.delete(np.arange(draw_batch_size),selection),norm_batchs_size,replace=False)\n",
        "    \n",
        "    selection = np.append(selection,selection2)\n",
        "    \n",
        "    triplets = ## YOUR CODE HERE ##\n",
        "    \n",
        "    return triplets"
      ],
      "execution_count": null,
      "outputs": []
    },
    {
      "cell_type": "markdown",
      "metadata": {
        "id": "iP50XFNEydGl"
      },
      "source": [
        "Verifichiamo con un plot"
      ]
    },
    {
      "cell_type": "code",
      "metadata": {
        "id": "FKA7bqRDygIK"
      },
      "source": [
        "triplets = get_batch_random(2)\n",
        "print(\"Checking batch width, should be 3 : \",len(triplets))\n",
        "print(\"Shapes in the batch A:{0} P:{1} N:{2}\".format(triplets[0].shape, triplets[1].shape, triplets[2].shape))\n",
        "drawTriplets(triplets)\n",
        "hardtriplets = get_batch_hard(50,1,1,network)\n",
        "print(\"Shapes in the hardbatch A:{0} P:{1} N:{2}\".format(hardtriplets[0].shape, hardtriplets[1].shape, hardtriplets[2].shape))\n",
        "drawTriplets(hardtriplets)"
      ],
      "execution_count": null,
      "outputs": []
    },
    {
      "cell_type": "markdown",
      "metadata": {
        "id": "qYE5WDdwylE8"
      },
      "source": [
        "Esempio di iperparametri, cmbiateli secondo il vostro modello."
      ]
    },
    {
      "cell_type": "code",
      "metadata": {
        "id": "6YBbf_x3ypLo"
      },
      "source": [
        "# Hyper parameters\n",
        "evaluate_every = 1000 # interval for evaluating on one-shot tasks\n",
        "batch_size = 32\n",
        "n_iter = 80000 # No. of training iterations\n",
        "n_val = 250 # how many one-shot tasks to validate on"
      ],
      "execution_count": 18,
      "outputs": []
    },
    {
      "cell_type": "markdown",
      "metadata": {
        "id": "qb5_BimAywgg"
      },
      "source": [
        "#### Validazione"
      ]
    },
    {
      "cell_type": "code",
      "metadata": {
        "id": "qEeERMAjyyVC"
      },
      "source": [
        "# Computing embeddings distance\n",
        "def compute_dist(a,b):\n",
        "    return np.sum(np.square(a-b))\n",
        "\n",
        "def compute_probs(network,X,Y):\n",
        "    '''\n",
        "    Input\n",
        "        network : current NN to compute embeddings\n",
        "        X : tensor of shape (m,w,h,1) containing pics to evaluate\n",
        "        Y : tensor of shape (m,) containing true class\n",
        "        \n",
        "    Returns\n",
        "        probs : array of shape (m,m) containing distances\n",
        "    \n",
        "    '''\n",
        "    m = X.shape[0]\n",
        "    nbevaluation = int(m*(m-1)/2)\n",
        "    probs = np.zeros((nbevaluation))\n",
        "    y = np.zeros((nbevaluation))\n",
        "    \n",
        "    #Compute all embeddings for all pics with current network\n",
        "    embeddings = network.predict(X)\n",
        "    \n",
        "    size_embedding = embeddings.shape[1]\n",
        "    \n",
        "    #For each pics of our dataset\n",
        "    k = 0\n",
        "    for i in range(m):\n",
        "            #Against all other images\n",
        "            for j in range(i+1,m):\n",
        "                #compute the probability of being the right decision : it should be 1 for right class, 0 for all other classes\n",
        "                probs[k] = -compute_dist(embeddings[i,:],embeddings[j,:])\n",
        "                if (Y[i]==Y[j]):\n",
        "                    y[k] = 1\n",
        "                    #print(\"{3}:{0} vs {1} : {2}\\tSAME\".format(i,j,probs[k],k))\n",
        "                else:\n",
        "                    y[k] = 0\n",
        "                    #print(\"{3}:{0} vs {1} : \\t\\t\\t{2}\\tDIFF\".format(i,j,probs[k],k))\n",
        "                k += 1\n",
        "    return probs,y\n",
        "#probs,yprobs = compute_probs(network,x_test_origin[:10,:,:,:],y_test_origin[:10])\n",
        "\n",
        "def compute_metrics(probs,yprobs):\n",
        "    '''\n",
        "    Returns\n",
        "        fpr : Increasing false positive rates such that element i is the false positive rate of predictions with score >= thresholds[i]\n",
        "        tpr : Increasing true positive rates such that element i is the true positive rate of predictions with score >= thresholds[i].\n",
        "        thresholds : Decreasing thresholds on the decision function used to compute fpr and tpr. thresholds[0] represents no instances being predicted and is arbitrarily set to max(y_score) + 1\n",
        "        auc : Area Under the ROC Curve metric\n",
        "    '''\n",
        "    # calculate AUC\n",
        "    auc = roc_auc_score(yprobs, probs)\n",
        "    # calculate roc curve\n",
        "    fpr, tpr, thresholds = roc_curve(yprobs, probs)\n",
        "    \n",
        "    return fpr, tpr, thresholds, auc\n",
        "\n",
        "def compute_interdist(network):\n",
        "    '''\n",
        "    Computes sum of distances between all classes embeddings on our reference test image: \n",
        "        d(0,1) + d(0,2) + ... + d(0,9) + d(1,2) + d(1,3) + ... d(8,9)\n",
        "        A good model should have a large distance between all theses embeddings\n",
        "        \n",
        "    Returns:\n",
        "        array of shape (n_classes, n_classes) \n",
        "    '''\n",
        "    res = np.zeros((n_classes, n_classes))\n",
        "    \n",
        "    ref_images = np.zeros((n_classes, img_rows, img_cols,1))\n",
        "    \n",
        "    #generates embeddings for reference images\n",
        "    for i in range(n_classes):\n",
        "        ref_images[i,:,:,:] = dataset_test[i][0,:,:,:]\n",
        "    ref_embeddings = network.predict(ref_images)\n",
        "    \n",
        "    for i in range(n_classes):\n",
        "        for j in range(n_classes):\n",
        "            res[i,j] = compute_dist(ref_embeddings[i], ref_embeddings[j])\n",
        "    return res\n",
        "\n",
        "def draw_interdist(network,n_iteration):\n",
        "    interdist = compute_interdist(network)\n",
        "    \n",
        "    data = []\n",
        "    for i in range(n_classes):\n",
        "        data.append(np.delete(interdist[i,:],[i]))\n",
        "\n",
        "    fig, ax = plt.subplots()\n",
        "    ax.set_title('Evaluating embeddings distance from each other after {0} iterations'.format(n_iteration))\n",
        "    ax.set_ylim([0,3])\n",
        "    plt.xlabel('Classes')\n",
        "    plt.ylabel('Distance')\n",
        "    ax.boxplot(data,showfliers=False,showbox=True)\n",
        "    locs, labels = plt.xticks()\n",
        "    plt.xticks(locs,np.arange(n_classes))\n",
        "\n",
        "    plt.show()\n",
        "    \n",
        "def find_nearest(array,value):\n",
        "    idx = np.searchsorted(array, value, side=\"left\")\n",
        "    if idx > 0 and (idx == len(array) or math.fabs(value - array[idx-1]) < math.fabs(value - array[idx])):\n",
        "        return array[idx-1],idx-1\n",
        "    else:\n",
        "        return array[idx],idx\n",
        "    \n",
        "def draw_roc(fpr, tpr,thresholds):\n",
        "    #find threshold\n",
        "    targetfpr=1e-3\n",
        "    _, idx = find_nearest(fpr,targetfpr)\n",
        "    threshold = thresholds[idx]\n",
        "    recall = tpr[idx]\n",
        "    \n",
        "    \n",
        "    # plot no skill\n",
        "    plt.plot([0, 1], [0, 1], linestyle='--')\n",
        "    # plot the roc curve for the model\n",
        "    plt.plot(fpr, tpr, marker='.')\n",
        "    plt.title('AUC: {0:.3f}\\nSensitivity : {2:.1%} @FPR={1:.0e}\\nThreshold={3})'.format(auc,targetfpr,recall,abs(threshold) ))\n",
        "    # show the plot\n",
        "    plt.show()"
      ],
      "execution_count": null,
      "outputs": []
    },
    {
      "cell_type": "code",
      "metadata": {
        "id": "zZZhi-7AzXgE"
      },
      "source": [
        "#Testing on an untrained network\n",
        "probs,yprob = compute_probs(network_predict,x_test_origin[:500,:,:,:],y_test_origin[:500])\n",
        "fpr, tpr, thresholds,auc = compute_metrics(probs,yprob)\n",
        "draw_roc(fpr, tpr,thresholds)\n",
        "draw_interdist(network_predict,n_iteration)"
      ],
      "execution_count": null,
      "outputs": []
    },
    {
      "cell_type": "code",
      "metadata": {
        "id": "UD1QnM5MziAM"
      },
      "source": [
        "def DrawTestImage(network, images, refidx=0):\n",
        "    '''\n",
        "    Evaluate some pictures vs some samples in the test set\n",
        "        image must be of shape(1,w,h,c)\n",
        "    \n",
        "    Returns\n",
        "        scores : resultat des scores de similarités avec les images de base => (N)\n",
        "    \n",
        "    '''\n",
        "    N=4\n",
        "    _, w,h,c = dataset_test[0].shape\n",
        "    nbimages=images.shape[0]\n",
        "    \n",
        "    #generates embedings for given images\n",
        "    image_embedings = network.predict(images)\n",
        "    \n",
        "    #generates embedings for reference images\n",
        "    ref_images = np.zeros((nb_classes,w,h,c))\n",
        "    for i in range(nb_classes):\n",
        "        ref_images[i,:,:,:] = dataset_test[i][refidx,:,:,:]\n",
        "    ref_embedings = network.predict(ref_images)\n",
        "            \n",
        "    for i in range(nbimages):\n",
        "        #Prepare the figure\n",
        "        fig=plt.figure(figsize=(16,2))\n",
        "        subplot = fig.add_subplot(1,nb_classes+1,1)\n",
        "        axis(\"off\")\n",
        "        plotidx = 2\n",
        "            \n",
        "        #Draw this image    \n",
        "        plt.imshow(images[i,:,:,0],vmin=0, vmax=1,cmap='Greys')\n",
        "        subplot.title.set_text(\"Test image\")\n",
        "            \n",
        "        for ref in range(nb_classes):\n",
        "            #Compute distance between this images and references\n",
        "            dist = compute_dist(image_embedings[i,:],ref_embedings[ref,:])\n",
        "            #Draw\n",
        "            subplot = fig.add_subplot(1,nb_classes+1,plotidx)\n",
        "            axis(\"off\")\n",
        "            plt.imshow(ref_images[ref,:,:,0],vmin=0, vmax=1,cmap='Greys')\n",
        "            subplot.title.set_text((\"Class {0}\\n{1:.3e}\".format(ref,dist)))\n",
        "            plotidx += 1"
      ],
      "execution_count": null,
      "outputs": []
    },
    {
      "cell_type": "code",
      "metadata": {
        "id": "_gVJGRY3zk8U"
      },
      "source": [
        "for i in range(3):\n",
        "    DrawTestImage(network,np.expand_dims(dataset_train[i][0,:,:,:],axis=0))"
      ],
      "execution_count": null,
      "outputs": []
    },
    {
      "cell_type": "markdown",
      "metadata": {
        "id": "6DAvDT0zznP8"
      },
      "source": [
        "### Train del modello"
      ]
    },
    {
      "cell_type": "code",
      "metadata": {
        "id": "S8yzGPjZzoza"
      },
      "source": [
        "print(\"Starting training process!\")\n",
        "print(\"-------------------------------------\")\n",
        "t_start = time.time()\n",
        "dummy_target = [np.zeros((batch_size,15)) for i in range(3)]\n",
        "for i in range(1, n_iter+1):\n",
        "    triplets = get_batch_hard(200,16,16,network)\n",
        "    loss = network_train.train_on_batch(triplets, None)\n",
        "    n_iteration += 1\n",
        "    if i % evaluate_every == 0:\n",
        "        print(\"\\n ------------- \\n\")\n",
        "        print(\"[{3}] Time for {0} iterations: {1:.1f} mins, Train Loss: {2}\".format(i, (time.time()-t_start)/60.0,loss,n_iteration))\n",
        "        probs,yprob = compute_probs(network,x_test_origin[:n_val,:,:,:],y_test_origin[:n_val])\n",
        "        #fpr, tpr, thresholds,auc = compute_metrics(probs,yprob)\n",
        "        #draw_roc(fpr, tpr)"
      ],
      "execution_count": null,
      "outputs": []
    },
    {
      "cell_type": "markdown",
      "metadata": {
        "id": "V3itDW12zwYL"
      },
      "source": [
        "### Validazione"
      ]
    },
    {
      "cell_type": "code",
      "metadata": {
        "id": "_MdSl-vZzzFR"
      },
      "source": [
        "#Full evaluation\n",
        "probs,yprob = compute_probs(network,x_test_origin,y_test_origin)\n",
        "fpr, tpr, thresholds,auc = compute_metrics(probs,yprob)\n",
        "draw_roc(fpr, tpr,thresholds)\n",
        "draw_interdist(network,n_iteration)"
      ],
      "execution_count": null,
      "outputs": []
    },
    {
      "cell_type": "code",
      "metadata": {
        "id": "4GNqFuupz5Im"
      },
      "source": [
        "for i in range(3):\n",
        "    DrawTestImage(network,np.expand_dims(dataset_train[i][0,:,:,:],axis=0))"
      ],
      "execution_count": null,
      "outputs": []
    },
    {
      "cell_type": "code",
      "metadata": {
        "id": "fs-hN6Pez9FX"
      },
      "source": [
        "draw_interdist(network_predict,n_iteration)"
      ],
      "execution_count": null,
      "outputs": []
    }
  ]
}